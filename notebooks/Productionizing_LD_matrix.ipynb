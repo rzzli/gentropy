{
  "cells": [
    {
      "cell_type": "markdown",
      "id": "baf71347",
      "metadata": {},
      "source": [
        "# Extracting square sub-matrices from reference\n",
        "\n",
        "\n",
        "### Conceptual considerations:\n",
        "\n",
        "```\n",
        "Summary statistics\n",
        "↓\n",
        "[window based clumping]\n",
        "[ld based clumping]\n",
        "↓\n",
        "StudyLocus\n",
        "↓\n",
        "[ld matrix extraction] <- StudyIndex (studyId, ldPopulations), ldIndex, ldMatrix\n",
        "↓\n",
        "\n",
        "```\n",
        "\n",
        "\n",
        "- Assume we have only one ancestry"
      ]
    },
    {
      "cell_type": "code",
      "execution_count": 1,
      "id": "d75ac655",
      "metadata": {
        "ExecuteTime": {
          "end_time": "2023-10-25T11:18:41.257715Z",
          "start_time": "2023-10-25T11:18:14.728571Z"
        }
      },
      "outputs": [
        {
          "name": "stderr",
          "output_type": "stream",
          "text": [
            "SLF4J: No SLF4J providers were found.\n",
            "SLF4J: Defaulting to no-operation (NOP) logger implementation\n",
            "SLF4J: See https://www.slf4j.org/codes.html#noProviders for further details.\n",
            "SLF4J: Class path contains SLF4J bindings targeting slf4j-api versions 1.7.x or earlier.\n",
            "SLF4J: Ignoring binding found at [jar:file:/usr/lib/spark/jars/log4j-slf4j-impl-2.18.0.jar!/org/slf4j/impl/StaticLoggerBinder.class]\n",
            "SLF4J: See https://www.slf4j.org/codes.html#ignoredBindings for an explanation.\n",
            "Setting default log level to \"WARN\".\n",
            "To adjust logging level use sc.setLogLevel(newLevel). For SparkR, use setLogLevel(newLevel).\n",
            "pip-installed Hail requires additional configuration options in Spark referring\n",
            "  to the path to the Hail Python module directory HAIL_DIR,\n",
            "  e.g. /path/to/python/site-packages/hail:\n",
            "    spark.jars=HAIL_DIR/backend/hail-all-spark.jar\n",
            "    spark.driver.extraClassPath=HAIL_DIR/backend/hail-all-spark.jar\n",
            "    spark.executor.extraClassPath=./hail-all-spark.jarRunning on Apache Spark version 3.3.0\n",
            "SparkUI available at http://ds-genetics-etl-test-m.c.open-targets-eu-dev.internal:37397\n",
            "Welcome to\n",
            "     __  __     <>__\n",
            "    / /_/ /__  __/ /\n",
            "   / __  / _ `/ / /\n",
            "  /_/ /_/\\_,_/_/_/   version 0.2.122-be9d88a80695\n",
            "LOGGING: writing to /dev/null\n"
          ]
        }
      ],
      "source": [
        "from gentropy.common.session import Session\n",
        "from gentropy.dataset.study_locus import StudyLocus\n",
        "from gentropy.dataset.study_index import StudyIndex\n",
        "from gentropy.datasource.gnomad.ld import GnomADLDMatrix\n",
        "from gentropy.datasource.finngen.study_index import FinnGenStudyIndex\n",
        "\n",
        "import hail as hl\n",
        "from hail.linalg import BlockMatrix\n",
        "\n",
        "from pyspark.sql import Window\n",
        "import pyspark.sql.functions as f\n",
        "from pyspark.sql import Column, DataFrame\n",
        "\n",
        "from urllib.request import urlopen\n",
        "\n",
        "\n",
        "session = Session(hail_home='/opt/conda/miniconda3/lib/python3.10/site-packages/hail', start_hail=True)\n",
        "\n"
      ]
    },
    {
      "cell_type": "markdown",
      "id": "9eac3419",
      "metadata": {},
      "source": [
        "## Generate FINNGEN Study table\n",
        "\n",
        "- Executed in 2.22s\n",
        "- Building a Finngen study table from source."
      ]
    },
    {
      "cell_type": "code",
      "execution_count": 3,
      "id": "51b4cd9c",
      "metadata": {
        "ExecuteTime": {
          "end_time": "2023-10-25T11:19:13.439965Z",
          "start_time": "2023-10-25T11:19:11.603603Z"
        }
      },
      "outputs": [
        {
          "name": "stdout",
          "output_type": "stream",
          "text": [
            "-RECORD 0--------------------------------------------------------------------------------------------------------------------\n",
            " studyId               | FINNGEN_R9_AB1_ACTINOMYCOSIS                                                                        \n",
            " traitFromSource       | Actinomycosis                                                                                       \n",
            " nCases                | 93                                                                                                  \n",
            " nControls             | 332343                                                                                              \n",
            " nSamples              | 332436                                                                                              \n",
            " projectId             | FINNGEN_R9                                                                                          \n",
            " studyType             | gwas                                                                                                \n",
            " hasSumstats           | true                                                                                                \n",
            " initialSampleSize     | 377,277 (210,870 females and 166,407 males)                                                         \n",
            " discoverySamples      | [{377277, Finnish}]                                                                                 \n",
            " summarystatsLocation  | https://storage.googleapis.com/finngen-public-data-r9/summary_stats/finngen_R9_AB1_ACTINOMYCOSIS.gz \n",
            " ldPopulationStructure | [{fin, 1.0}]                                                                                        \n",
            "only showing top 1 row\n",
            "\n",
            "+--------------------+------------+\n",
            "|             studyId|ldPopulation|\n",
            "+--------------------+------------+\n",
            "|FINNGEN_R9_ASTHMA...|         fin|\n",
            "|FINNGEN_R9_E4_PIT...|         fin|\n",
            "|FINNGEN_R9_E4_VIT...|         fin|\n",
            "|FINNGEN_R9_H8_MID...|         fin|\n",
            "|FINNGEN_R9_L12_PI...|         fin|\n",
            "|FINNGEN_R9_M13_HA...|         fin|\n",
            "|FINNGEN_R9_M13_SP...|         fin|\n",
            "|FINNGEN_R9_Q17_LV...|         fin|\n",
            "|FINNGEN_R9_ALCOHO...|         fin|\n",
            "|FINNGEN_R9_CHRONL...|         fin|\n",
            "|FINNGEN_R9_C_DIFF...|         fin|\n",
            "|FINNGEN_R9_E4_OBE...|         fin|\n",
            "|FINNGEN_R9_GOUT_S...|         fin|\n",
            "|FINNGEN_R9_I9_LYM...|         fin|\n",
            "|FINNGEN_R9_I9_VAR...|         fin|\n",
            "|FINNGEN_R9_J10_CH...|         fin|\n",
            "|FINNGEN_R9_K11_HY...|         fin|\n",
            "|FINNGEN_R9_K11_RE...|         fin|\n",
            "|FINNGEN_R9_M13_OS...|         fin|\n",
            "|FINNGEN_R9_O15_PR...|         fin|\n",
            "+--------------------+------------+\n",
            "only showing top 20 rows\n",
            "\n"
          ]
        }
      ],
      "source": [
        "# Processing studies:\n",
        "def update_population(ld_pop: Column) -> Column:\n",
        "    return f.when(\n",
        "            f.size(ld_pop) == 1,\n",
        "            ld_pop.getItem(0).ldPopulation\n",
        "        )\n",
        "\n",
        "\n",
        "# Read the JSON data from the URL.\n",
        "json_data = urlopen('https://r9.finngen.fi/api/phenos').read().decode(\"utf-8\")\n",
        "rdd = session.spark.sparkContext.parallelize([json_data])\n",
        "df = session.spark.read.json(rdd)\n",
        "\n",
        "\n",
        "finngen_release_prefix = 'FINNGEN_R9'\n",
        "finngen_summary_stats_url_prefix = 'https://storage.googleapis.com/finngen-public-data-r9/summary_stats/finngen_R9_'\n",
        "finngen_summary_stats_url_suffix = '.gz'\n",
        "\n",
        "# Parse the study index data.\n",
        "studies = FinnGenStudyIndex.from_source(\n",
        "    df, \n",
        "    finngen_release_prefix, \n",
        "    finngen_summary_stats_url_prefix, \n",
        "    finngen_summary_stats_url_suffix\n",
        ")\n",
        "\n",
        "studies.df.show(1, False, True)\n",
        "\n",
        "# From the study table we only need study identifier and the ld population\n",
        "# We only need ld population if the study is based on single ancestry.\n",
        "studies = (\n",
        "    studies.df\n",
        "    .select(\n",
        "        'studyId',\n",
        "        update_population(f.col('ldPopulationStructure')).alias('ldPopulation'), \n",
        "    )\n",
        "    .distinct()\n",
        "    .persist()\n",
        ")\n",
        "\n",
        "studies.show()"
      ]
    },
    {
      "cell_type": "markdown",
      "id": "6452e680",
      "metadata": {
        "ExecuteTime": {
          "end_time": "2023-10-24T10:24:17.267975Z",
          "start_time": "2023-10-24T10:24:11.432842Z"
        }
      },
      "source": [
        "## Reading distance and ld clumped Finngen dataset\n",
        "\n",
        "- Extract two random loci for prototyping purposes.\n",
        "- Input dataset: 19,005 study locus from 1,387 studies."
      ]
    },
    {
      "cell_type": "code",
      "execution_count": 6,
      "id": "46e851ca",
      "metadata": {
        "ExecuteTime": {
          "end_time": "2023-10-25T11:25:04.824517Z",
          "start_time": "2023-10-25T11:25:00.848659Z"
        }
      },
      "outputs": [
        {
          "name": "stderr",
          "output_type": "stream",
          "text": [
            "[Stage 63:===================================================>    (33 + 3) / 36]\r"
          ]
        },
        {
          "name": "stdout",
          "output_type": "stream",
          "text": [
            "+-----------------------------------------+---------------+--------------+--------------+\n",
            "|studyId                                  |variantId      |pValueMantissa|pValueExponent|\n",
            "+-----------------------------------------+---------------+--------------+--------------+\n",
            "|FINNGEN_R9_C3_BASAL_CELL_CARCINOMA_EXALLC|15_29035680_G_A|2.076         |-21           |\n",
            "|FINNGEN_R9_G6_SLEEPAPNO                  |16_53771295_C_A|2.149         |-26           |\n",
            "+-----------------------------------------+---------------+--------------+--------------+\n",
            "\n"
          ]
        },
        {
          "name": "stderr",
          "output_type": "stream",
          "text": [
            "                                                                                \r"
          ]
        }
      ],
      "source": [
        "sl = StudyLocus(\n",
        "    _df= (\n",
        "        session.spark.read\n",
        "        .parquet('gs://genetics_etl_python_playground/XX.XX/output/python_etl/parquet/finngen/2023.10.13_ld_clumped_w_locus/')\n",
        "        .filter(\n",
        "            (f.size(f.col('qualityControls')) == 0) &\n",
        "            (f.size(f.col('locus')) > 100)\n",
        "        )\n",
        "        .orderBy(f.rand(seed=23))\n",
        "        .limit(2)\n",
        "    ),\n",
        "    _schema=StudyLocus.get_schema()\n",
        ").persist()\n",
        "\n",
        "# Get list of leads and studies:\n",
        "sl.df.select('studyId', 'variantId', 'pValueMantissa', 'pValueExponent', ).show(truncate=False)"
      ]
    },
    {
      "cell_type": "code",
      "execution_count": 148,
      "id": "661d9633",
      "metadata": {
        "ExecuteTime": {
          "end_time": "2023-10-27T11:16:21.754731Z",
          "start_time": "2023-10-27T11:16:20.553762Z"
        }
      },
      "outputs": [
        {
          "name": "stdout",
          "output_type": "stream",
          "text": [
            "+--------------------+---------------+---------+---------+---------+-----------------------------------+\n",
            "|studyLocusId        |variantId      |pValue   |locusSize|ldSetSize|qualityControls                    |\n",
            "+--------------------+---------------+---------+---------+---------+-----------------------------------+\n",
            "|-6067699795164145074|15_27427129_A_G|9.592E-13|738      |35       |[]                                 |\n",
            "|-8027743839728879857|15_27983407_C_T|4.618E-61|837      |78       |[]                                 |\n",
            "|4889075444063922922 |15_28519016_G_A|2.786E-33|277      |-1       |[Variant not found in LD reference]|\n",
            "|2224601896262245870 |15_29035680_G_A|2.076E-21|647      |5        |[]                                 |\n",
            "|-7676564604508510836|15_48134287_A_G|3.572E-12|442      |34       |[]                                 |\n",
            "+--------------------+---------------+---------+---------+---------+-----------------------------------+\n",
            "\n"
          ]
        },
        {
          "name": "stderr",
          "output_type": "stream",
          "text": [
            "                                                                                \r"
          ]
        }
      ],
      "source": [
        "# Let's get all top-loci from this study on chromosome 15:\n",
        "(\n",
        "    session.spark.read\n",
        "    .parquet('gs://genetics_etl_python_playground/XX.XX/output/python_etl/parquet/finngen/2023.10.13_ld_clumped_w_locus/')\n",
        "    .filter(\n",
        "        (f.col('studyId') == 'FINNGEN_R9_C3_BASAL_CELL_CARCINOMA_EXALLC') &\n",
        "        (f.col('chromosome') == '15') \n",
        "#         f.col('ldSet').isNotNull()\n",
        "    )\n",
        "    .orderBy(f.col('position'))\n",
        "    .select(\n",
        "        'studyLocusId',\n",
        "        'variantId', \n",
        "        f.concat_ws('E','pValueMantissa', 'pValueExponent').alias('pValue'), \n",
        "#         'studyLocusId', \n",
        "        f.size(f.col('locus')).alias('locusSize'),\n",
        "        f.size(f.col('ldSet')).alias('ldSetSize'),\n",
        "        f.col('qualityControls')\n",
        "    )\n",
        "#     .count()\n",
        "    .show(20, truncate=False)\n",
        ")"
      ]
    },
    {
      "cell_type": "code",
      "execution_count": null,
      "id": "d101a072",
      "metadata": {},
      "outputs": [],
      "source": []
    },
    {
      "attachments": {
        "image.png": {
          "image/png": "[encoded data removed]"
        }
      },
      "cell_type": "markdown",
      "id": "9db8b8ab",
      "metadata": {},
      "source": [
        "## Comparing with Finngen finemapping.\n",
        "\n",
        "The same [trait](https://r9.finngen.fi/pheno/C3_BASAL_CELL_CARCINOMA_EXALLC) has 3 finemapped credible sets.\n",
        "\n",
        "![image.png](attachment:image.png)\n",
        "\n",
        "- `15:27983407:C:T` and `15:27985172:C:T` are very close, I could find `27983407`.\n",
        "- Also `15_48134287_A_G` is found by both approach.\n",
        "- One of the other three snps was not found in the LD set (`15_28519016_G_A`). \n",
        "- `15_27427129_A_G` and `15_29035680_G_A` were resolved in the LD matrix, and were found to be not linked. But they are not in the.\n",
        "\n",
        "What are the r between these variants?\n",
        "\n",
        "- 15_27983407_C_T vs 15_27427129_A_G -> r = \n",
        "- 15_27983407_C_T vs 15_29035680_G_A -> r ="
      ]
    },
    {
      "cell_type": "code",
      "execution_count": 144,
      "id": "d8da5802",
      "metadata": {
        "ExecuteTime": {
          "end_time": "2023-10-27T10:19:25.494510Z",
          "start_time": "2023-10-27T10:19:23.020596Z"
        }
      },
      "outputs": [
        {
          "name": "stderr",
          "output_type": "stream",
          "text": [
            "                                                                                \r"
          ]
        },
        {
          "name": "stdout",
          "output_type": "stream",
          "text": [
            "+---------------+---------+---------+---------+---------------+----------+--------+--------+------------+\n",
            "|      variantId|   pValue|locusSize|ldSetSize|qualityControls|chromosome|position|     idx|ldPopulation|\n",
            "+---------------+---------+---------+---------+---------------+----------+--------+--------+------------+\n",
            "|15_27427129_A_G|9.592E-13|      738|       35|             []|        15|27427129|11130387|         fin|\n",
            "|15_27983407_C_T|4.618E-61|      837|       78|             []|        15|27983407|11133253|         fin|\n",
            "|15_29035680_G_A|2.076E-21|      647|        5|             []|        15|29035680|11136878|         fin|\n",
            "+---------------+---------+---------+---------+---------------+----------+--------+--------+------------+\n",
            "\n"
          ]
        }
      ],
      "source": [
        "# Extracting and resolving ld:\n",
        "resolved_ld_index = (\n",
        "    session.spark.read\n",
        "    .parquet('gs://genetics_etl_python_playground/XX.XX/output/python_etl/parquet/finngen/2023.10.13_ld_clumped_w_locus/')\n",
        "    .filter(\n",
        "        (f.col('studyId') == 'FINNGEN_R9_C3_BASAL_CELL_CARCINOMA_EXALLC') &\n",
        "        f.col('variantId').isin(['15_27983407_C_T', '15_27427129_A_G', '15_29035680_G_A'])\n",
        "    )\n",
        "    .orderBy(f.col('position'))\n",
        "    .select(\n",
        "        'variantId', \n",
        "        f.concat_ws('E','pValueMantissa', 'pValueExponent').alias('pValue'), \n",
        "#         'studyLocusId', \n",
        "        f.size(f.col('locus')).alias('locusSize'),\n",
        "        f.size(f.col('ldSet')).alias('ldSetSize'),\n",
        "        f.col('qualityControls')\n",
        "    )\n",
        "#     .count()\n",
        "    .join(ld_index, on = 'variantId', how='left')\n",
        "    .persist()\n",
        ")\n",
        "\n",
        "resolved_ld_index.show()"
      ]
    },
    {
      "cell_type": "code",
      "execution_count": 147,
      "id": "722eb21d",
      "metadata": {
        "ExecuteTime": {
          "end_time": "2023-10-27T10:24:03.123125Z",
          "start_time": "2023-10-27T10:23:32.607310Z"
        }
      },
      "outputs": [
        {
          "name": "stderr",
          "output_type": "stream",
          "text": [
            "2023-10-27 10:23:48.619 Hail: INFO: Coerced sorted dataset                      \n",
            "[Stage 942:>                                                        (0 + 1) / 1]\r"
          ]
        },
        {
          "name": "stdout",
          "output_type": "stream",
          "text": [
            "+---+---+------------------+\n",
            "|i  |j  |entry             |\n",
            "+---+---+------------------+\n",
            "|0  |0  |2.0000000000000084|\n",
            "|0  |1  |0.4201370447477838|\n",
            "|0  |2  |0.0               |\n",
            "|1  |0  |0.4201370447477838|\n",
            "|1  |1  |2.0000000000000004|\n",
            "|1  |2  |0.0               |\n",
            "|2  |0  |0.0               |\n",
            "|2  |1  |0.0               |\n",
            "|2  |2  |1.9999999999999996|\n",
            "+---+---+------------------+\n",
            "\n"
          ]
        },
        {
          "name": "stderr",
          "output_type": "stream",
          "text": [
            "                                                                                \r"
          ]
        }
      ],
      "source": [
        "# Accessing r data from the LD matrix:\n",
        "half_matrix = (\n",
        "    BlockMatrix\n",
        "    .read(ld_matrix_template.format(POP=ld_population))\n",
        "    .filter(\n",
        "        [row['idx'] for row in resolved_ld_index.select('idx').collect()],\n",
        "        [row['idx'] for row in resolved_ld_index.select('idx').collect()]\n",
        "    )\n",
        ")\n",
        "\n",
        "# matrix = half_matrix + half_matrix.T\n",
        "matrix.entries().to_spark().show(100, truncate=False)"
      ]
    },
    {
      "cell_type": "code",
      "execution_count": 153,
      "id": "c316e0d0",
      "metadata": {
        "ExecuteTime": {
          "end_time": "2023-10-27T11:18:11.801945Z",
          "start_time": "2023-10-27T11:18:06.718163Z"
        }
      },
      "outputs": [
        {
          "name": "stderr",
          "output_type": "stream",
          "text": [
            "                                                                                \r"
          ]
        },
        {
          "name": "stdout",
          "output_type": "stream",
          "text": [
            "+---------------+----------+--------------------+--------------------+--------+--------+---------+--------------------------------+--------------------------------+---------------------------+---------------------------+--------------+--------------+-------------------------------+-------------+-------------------+---------------+-----------------+--------------------+--------------------+\n",
            "|      variantId|chromosome|             studyId|        studyLocusId|position|    beta|oddsRatio|oddsRatioConfidenceIntervalLower|oddsRatioConfidenceIntervalUpper|betaConfidenceIntervalLower|betaConfidenceIntervalUpper|pValueMantissa|pValueExponent|effectAlleleFrequencyFromSource|standardError|subStudyDescription|qualityControls|finemappingMethod|               locus|               ldSet|\n",
            "+---------------+----------+--------------------+--------------------+--------+--------+---------+--------------------------------+--------------------------------+---------------------------+---------------------------+--------------+--------------+-------------------------------+-------------+-------------------+---------------+-----------------+--------------------+--------------------+\n",
            "|15_27983407_C_T|        15|FINNGEN_R9_C3_BAS...|-8027743839728879857|27983407|0.413866|     null|                            null|                            null|                   0.388762|                    0.43897|         4.618|           -61|                      0.0443583|     0.025104|               null|             []|             null|[{null, null, nul...|[{15_28482553_T_C...|\n",
            "+---------------+----------+--------------------+--------------------+--------+--------+---------+--------------------------------+--------------------------------+---------------------------+---------------------------+--------------+--------------+-------------------------------+-------------+-------------------+---------------+-----------------+--------------------+--------------------+\n",
            "\n"
          ]
        }
      ],
      "source": [
        "study_locus_id = -8027743839728879857\n",
        "\n",
        "# Running susie for a specific study locus:\n",
        "sl = StudyLocus(\n",
        "    _df= (\n",
        "        session.spark.read\n",
        "        .parquet('gs://genetics_etl_python_playground/XX.XX/output/python_etl/parquet/finngen/2023.10.13_ld_clumped_w_locus/')\n",
        "        .filter(f.col('studyLocusId') == study_locus_id)\n",
        "    ),\n",
        "    _schema=StudyLocus.get_schema()\n",
        ").persist()\n",
        "\n",
        "sl.df.show()"
      ]
    },
    {
      "cell_type": "markdown",
      "id": "947d112a",
      "metadata": {},
      "source": [
        "## Annotating study locus with ld population + Get list of ancestires"
      ]
    },
    {
      "cell_type": "code",
      "execution_count": 154,
      "id": "8be0fd89",
      "metadata": {
        "ExecuteTime": {
          "end_time": "2023-10-27T11:20:59.482466Z",
          "start_time": "2023-10-27T11:20:59.062418Z"
        }
      },
      "outputs": [
        {
          "name": "stdout",
          "output_type": "stream",
          "text": [
            "-RECORD 0------------------------------------------------\n",
            " studyId                          | FINNGEN_R9_C3_BAS... \n",
            " variantId                        | 15_27983407_C_T      \n",
            " chromosome                       | 15                   \n",
            " studyLocusId                     | -8027743839728879857 \n",
            " position                         | 27983407             \n",
            " beta                             | 0.413866             \n",
            " oddsRatio                        | null                 \n",
            " oddsRatioConfidenceIntervalLower | null                 \n",
            " oddsRatioConfidenceIntervalUpper | null                 \n",
            " betaConfidenceIntervalLower      | 0.388762             \n",
            " betaConfidenceIntervalUpper      | 0.43897              \n",
            " pValueMantissa                   | 4.618                \n",
            " pValueExponent                   | -61                  \n",
            " effectAlleleFrequencyFromSource  | 0.0443583            \n",
            " standardError                    | 0.025104             \n",
            " subStudyDescription              | null                 \n",
            " qualityControls                  | []                   \n",
            " finemappingMethod                | null                 \n",
            " locus                            | [{null, null, nul... \n",
            " ldSet                            | [{15_28482553_T_C... \n",
            " ldPopulation                     | fin                  \n",
            "\n"
          ]
        },
        {
          "data": {
            "text/plain": [
              "['fin']"
            ]
          },
          "execution_count": 154,
          "metadata": {},
          "output_type": "execute_result"
        }
      ],
      "source": [
        "# Adding ld population to study locus:\n",
        "dl_df = (\n",
        "    sl.df\n",
        "    .join(studies, on='studyId', how='left')\n",
        "    .persist()\n",
        ")\n",
        "\n",
        "dl_df.show(1, vertical=True)\n",
        "\n",
        "# Extract the required ld populations:\n",
        "ld_populations = [row['ldPopulation'] for row in dl_df.select('ldPopulation').distinct().collect()]\n",
        "\n",
        "ld_populations"
      ]
    },
    {
      "cell_type": "markdown",
      "id": "b69aad94",
      "metadata": {
        "ExecuteTime": {
          "end_time": "2023-10-24T10:34:37.443692Z",
          "start_time": "2023-10-24T10:34:37.436917Z"
        }
      },
      "source": [
        "## Read ld index"
      ]
    },
    {
      "cell_type": "code",
      "execution_count": 155,
      "id": "5465b9d3",
      "metadata": {
        "ExecuteTime": {
          "end_time": "2023-10-27T11:21:03.778148Z",
          "start_time": "2023-10-27T11:21:03.770967Z"
        },
        "code_folding": [
          2
        ]
      },
      "outputs": [],
      "source": [
        "from gentropy.common.utils import _liftover_loci, convert_gnomad_position_to_ensembl\n",
        "\n",
        "def _process_ld_indices(\n",
        "    ld_index_raw: hl.Table, \n",
        "    grch37_to_grch38_chain_path: str\n",
        ") -> DataFrame:\n",
        "    \"\"\"Creates a look up table between variants and their coordinates in the LD Matrix.\n",
        "\n",
        "    !!! info \"Gnomad's LD Matrix and Index are based on GRCh37 coordinates. This function will lift over the coordinates to GRCh38 to build the lookup table.\"\n",
        "\n",
        "    Args:\n",
        "        ld_index_raw (hl.Table): LD index table from GnomAD\n",
        "        grch37_to_grch38_chain_path (str): Path to the chain file used to lift over the coordinates\n",
        "\n",
        "    Returns:\n",
        "        DataFrame: Look up table between variants in build hg38 and their coordinates in the LD Matrix\n",
        "    \"\"\"\n",
        "    ld_index_38 = _liftover_loci(\n",
        "        ld_index_raw, grch37_to_grch38_chain_path, \"GRCh38\"\n",
        "    )\n",
        "\n",
        "    return (\n",
        "        ld_index_38.to_spark()\n",
        "        # Filter out variants where the liftover failed\n",
        "        .filter(f.col(\"`locus_GRCh38.position`\").isNotNull())\n",
        "        .withColumn(\n",
        "            \"chromosome\", f.regexp_replace(\"`locus_GRCh38.contig`\", \"chr\", \"\")\n",
        "        )\n",
        "        # Temporary filter:\n",
        "        .filter(f.col('chromosome').isin(['16', '15']))\n",
        "        .withColumn(\n",
        "            \"position\",\n",
        "            convert_gnomad_position_to_ensembl(\n",
        "                f.col(\"`locus_GRCh38.position`\"),\n",
        "                f.col(\"`alleles`\").getItem(0),\n",
        "                f.col(\"`alleles`\").getItem(1),\n",
        "            ),\n",
        "        )\n",
        "        .select(\n",
        "            \"chromosome\",\n",
        "            \"position\",\n",
        "            f.concat_ws(\n",
        "                \"_\",\n",
        "                f.col(\"chromosome\"),\n",
        "                f.col(\"position\"),\n",
        "                f.col(\"`alleles`\").getItem(0),\n",
        "                f.col(\"`alleles`\").getItem(1),\n",
        "            ).alias(\"variantId\"),\n",
        "            f.col(\"idx\"),\n",
        "        )\n",
        "        # Filter out ambiguous liftover results: multiple indices for the same variant\n",
        "        .withColumn(\"count\", f.count(\"*\").over(Window.partitionBy([\"variantId\"])))\n",
        "        .filter(f.col(\"count\") == 1)\n",
        "        .drop(\"count\")\n",
        "    )\n"
      ]
    },
    {
      "cell_type": "markdown",
      "id": "15eab28a",
      "metadata": {},
      "source": [
        "- Full genome: 5min"
      ]
    },
    {
      "cell_type": "code",
      "execution_count": 156,
      "id": "e231cc9a",
      "metadata": {
        "ExecuteTime": {
          "end_time": "2023-10-27T11:25:47.523343Z",
          "start_time": "2023-10-27T11:21:07.729708Z"
        }
      },
      "outputs": [
        {
          "name": "stderr",
          "output_type": "stream",
          "text": [
            "[Stage 975:=================================================>(9996 + 4) / 10000]\r"
          ]
        },
        {
          "name": "stdout",
          "output_type": "stream",
          "text": [
            "+----------+---------+--------------------+--------+------------+\n",
            "|chromosome| position|           variantId|     idx|ldPopulation|\n",
            "+----------+---------+--------------------+--------+------------+\n",
            "|        15|100068435|    15_100068435_C_T|11488485|         fin|\n",
            "|        15|100074914|    15_100074914_T_C|11488528|         fin|\n",
            "|        15|100082112|    15_100082112_C_G|11488600|         fin|\n",
            "|        15|100084933|    15_100084933_C_T|11488622|         fin|\n",
            "|        15|100086055|    15_100086055_C_T|11488643|         fin|\n",
            "|        15|100102338|15_100102338_CGAA...|11488802|         fin|\n",
            "|        15|100102474|    15_100102474_A_G|11488806|         fin|\n",
            "|        15|100140453|  15_100140453_G_GAC|11489087|         fin|\n",
            "|        15|100141050|    15_100141050_G_A|11489092|         fin|\n",
            "|        15|100149133|    15_100149133_G_T|11489141|         fin|\n",
            "|        15|100270659|    15_100270659_G_A|11490053|         fin|\n",
            "|        15|100317282|    15_100317282_T_C|11490464|         fin|\n",
            "|        15|100376040| 15_100376040_ACTT_A|11490958|         fin|\n",
            "|        15|100391254|   15_100391254_CA_C|11491027|         fin|\n",
            "|        15|100394474|    15_100394474_T_C|11491043|         fin|\n",
            "|        15|100466861|    15_100466861_T_C|11491614|         fin|\n",
            "|        15|100516200|    15_100516200_T_C|11492028|         fin|\n",
            "|        15|100525848|    15_100525848_T_G|11492086|         fin|\n",
            "|        15|100588385|    15_100588385_A_T|11492713|         fin|\n",
            "|        15|100605649|    15_100605649_A_T|11492813|         fin|\n",
            "+----------+---------+--------------------+--------+------------+\n",
            "only showing top 20 rows\n",
            "\n"
          ]
        },
        {
          "name": "stderr",
          "output_type": "stream",
          "text": [
            "                                                                                \r"
          ]
        }
      ],
      "source": [
        "grch37_to_grch38_chain_path = 'gs://hail-common/references/grch37_to_grch38.over.chain.gz'\n",
        "ld_index_raw_template = 'gs://gcp-public-data--gnomad/release/2.1.1/ld/gnomad.genomes.r2.1.1.{POP}.common.ld.variant_indices.ht'\n",
        "ld_matrix_template ='gs://gcp-public-data--gnomad/release/2.1.1/ld/gnomad.genomes.r2.1.1.{POP}.common.adj.ld.bm'\n",
        "\n",
        "\n",
        "ld_population = 'fin'\n",
        "ld_index_raw_path = ld_index_raw_template.format(POP=ld_population)\n",
        "\n",
        "ld_index = (\n",
        "    _process_ld_indices(\n",
        "        hl.read_table(ld_index_raw_path),\n",
        "        grch37_to_grch38_chain_path,\n",
        "    )\n",
        "    .withColumn('ldPopulation', f.lit(ld_population))\n",
        "    .persist()\n",
        ")\n",
        "\n",
        "ld_index.show()"
      ]
    },
    {
      "cell_type": "code",
      "execution_count": 157,
      "id": "e43d0dbf",
      "metadata": {
        "ExecuteTime": {
          "end_time": "2023-10-27T11:26:04.794300Z",
          "start_time": "2023-10-27T11:26:04.691498Z"
        }
      },
      "outputs": [],
      "source": [
        "# how to do the join?\n",
        "window_size = 250_000\n",
        "tags = (\n",
        "    # Pre-process study locus:\n",
        "    f.broadcast(dl_df)\n",
        "    .select('studyLocusId', 'chromosome', 'position', 'ldPopulation')\n",
        "    .alias('study_locus')\n",
        "    .join(\n",
        "        (\n",
        "            ld_index\n",
        "            .selectExpr(*[f\"{col} as ld_index_{col}\" for col in ld_index.columns])\n",
        "            .alias('ld_index')\n",
        "        ),\n",
        "        on = [\n",
        "            (f.col('ld_index.ld_index_chromosome') == f.col('study_locus.chromosome')) & \n",
        "            (f.col('ld_index.ld_index_ldPopulation') == f.col('study_locus.ldPopulation')) &\n",
        "            (f.col('ld_index.ld_index_position') >= f.col('study_locus.position') - window_size) & \n",
        "            (f.col('ld_index.ld_index_position') <= f.col('study_locus.position') + window_size)\n",
        "        ],\n",
        "        how='left'\n",
        "    )\n",
        "    .select(\n",
        "        'studyLocusId',\n",
        "        'chromosome',\n",
        "        f.col('ld_index_variantId').alias('variantId'),\n",
        "        f.col('ld_index_idx').alias('idx'),\n",
        "        f.col('ld_index_position'),\n",
        "        f.col('ld_index_ldPopulation').alias('ldPopulation')\n",
        "    )\n",
        "    .persist()\n",
        ")"
      ]
    },
    {
      "cell_type": "code",
      "execution_count": 158,
      "id": "45fb0df5",
      "metadata": {
        "ExecuteTime": {
          "end_time": "2023-10-27T11:26:08.409160Z",
          "start_time": "2023-10-27T11:26:06.312358Z"
        }
      },
      "outputs": [
        {
          "name": "stderr",
          "output_type": "stream",
          "text": [
            "[Stage 979:============================================>       (173 + 27) / 200]\r"
          ]
        },
        {
          "name": "stdout",
          "output_type": "stream",
          "text": [
            "+--------------------+-----+\n",
            "|        studyLocusId|count|\n",
            "+--------------------+-----+\n",
            "|-8027743839728879857| 2079|\n",
            "+--------------------+-----+\n",
            "\n"
          ]
        },
        {
          "name": "stderr",
          "output_type": "stream",
          "text": [
            "                                                                                \r"
          ]
        }
      ],
      "source": [
        "tags.groupby('studyLocusId').count().show()"
      ]
    },
    {
      "cell_type": "code",
      "execution_count": 159,
      "id": "858894fc",
      "metadata": {
        "ExecuteTime": {
          "end_time": "2023-10-27T11:26:14.204291Z",
          "start_time": "2023-10-27T11:26:12.440937Z"
        }
      },
      "outputs": [
        {
          "name": "stderr",
          "output_type": "stream",
          "text": [
            "                                                                                \r"
          ]
        },
        {
          "name": "stdout",
          "output_type": "stream",
          "text": [
            "+--------------------+----------+--------------+-------------+-------------+---------+--------+--------------+\n",
            "|studyLocusId        |chromosome|first_position|last_position|window_length|first_idx|last_idx|ldVariantCount|\n",
            "+--------------------+----------+--------------+-------------+-------------+---------+--------+--------------+\n",
            "|-8027743839728879857|15        |27733460      |28232552     |499092       |11131979 |11134057|2079          |\n",
            "+--------------------+----------+--------------+-------------+-------------+---------+--------+--------------+\n",
            "\n"
          ]
        },
        {
          "data": {
            "text/plain": [
              "1"
            ]
          },
          "execution_count": 159,
          "metadata": {},
          "output_type": "execute_result"
        }
      ],
      "source": [
        "# Collecting region:\n",
        "ld_windows = (\n",
        "    tags\n",
        "    .orderBy('studyLocusId', 'ld_index_position')\n",
        "    .groupBy('studyLocusId', 'chromosome', 'ldPopulation')\n",
        "    .agg(\n",
        "        f.first(f.col('ld_index_position')).alias('first_position'),\n",
        "        f.first(f.col('variantId')).alias('first_variantId'),\n",
        "        f.first(f.col('idx')).alias('first_idx'),\n",
        "        f.last(f.col('ld_index_position')).alias('last_position'),\n",
        "        f.last(f.col('variantId')).alias('last_variantId'),\n",
        "        f.last(f.col('idx')).alias('last_idx'),\n",
        "        f.size(f.collect_list(f.col('variantId'))).alias('ldVariantCount')\n",
        "    )\n",
        "    .withColumn('window_length', f.col('last_position') - f.col('first_position'))\n",
        "    .persist()\n",
        ")\n",
        "\n",
        "(\n",
        "    ld_windows\n",
        "    .select(\n",
        "        'studyLocusId',\n",
        "        'chromosome',\n",
        "        'first_position',\n",
        "        'last_position',\n",
        "        'window_length',\n",
        "        'first_idx',\n",
        "        'last_idx',\n",
        "        'ldVariantCount'\n",
        "    )\n",
        "    .show(truncate=False)\n",
        ")\n",
        "\n",
        "\n",
        "ld_windows.count()"
      ]
    },
    {
      "cell_type": "code",
      "execution_count": 160,
      "id": "61d51efe",
      "metadata": {
        "ExecuteTime": {
          "end_time": "2023-10-27T11:26:22.608155Z",
          "start_time": "2023-10-27T11:26:22.421535Z"
        }
      },
      "outputs": [
        {
          "data": {
            "text/plain": [
              "Row(studyLocusId=-8027743839728879857, chromosome='15', ldPopulation='fin', first_position=27733460, first_variantId='15_27733460_AGCCAAACTGGCTCATGGCC_A', first_idx=11131979, last_position=28232552, last_variantId='15_28232552_G_GA', last_idx=11134057, ldVariantCount=2079, window_length=499092)"
            ]
          },
          "execution_count": 160,
          "metadata": {},
          "output_type": "execute_result"
        }
      ],
      "source": [
        "row = ld_windows.collect()[0]\n",
        "row"
      ]
    },
    {
      "cell_type": "code",
      "execution_count": 161,
      "id": "d4d006bd",
      "metadata": {
        "ExecuteTime": {
          "end_time": "2023-10-27T11:26:31.400420Z",
          "start_time": "2023-10-27T11:26:30.851547Z"
        }
      },
      "outputs": [],
      "source": [
        "ld_population = row['ldPopulation']\n",
        "study_locus_id = row['studyLocusId']\n",
        "chromosome = row['chromosome']\n",
        "first_index = row['first_idx']\n",
        "last_index = row['last_idx']\n",
        "\n",
        "# For each row, we need to open the gnomad \n",
        "half_matrix = (\n",
        "    BlockMatrix\n",
        "    .read(ld_matrix_template.format(POP=ld_population))\n",
        "    .filter(\n",
        "        range(first_index, last_index),\n",
        "        range(first_index, last_index)\n",
        "    )\n",
        ")\n",
        "\n",
        "matrix = half_matrix + half_matrix.T\n"
      ]
    },
    {
      "cell_type": "code",
      "execution_count": 162,
      "id": "e24da4ca",
      "metadata": {
        "ExecuteTime": {
          "end_time": "2023-10-27T11:27:24.435664Z",
          "start_time": "2023-10-27T11:26:35.945855Z"
        }
      },
      "outputs": [
        {
          "name": "stderr",
          "output_type": "stream",
          "text": [
            "2023-10-27 11:26:58.169 Hail: INFO: Coerced sorted dataset                      \n",
            "                                                                                \r"
          ]
        }
      ],
      "source": [
        "(\n",
        "    matrix.entries().to_spark()\n",
        "    .select(\n",
        "        (f.col('i')+first_index).alias('idx_i'),\n",
        "        (f.col('j')+first_index).alias('idx_j'),\n",
        "        f.when(f.col('i') == f.col('j'), f.col('entry')/2).otherwise(f.col('entry')).alias('r'),\n",
        "        f.lit(study_locus_id).alias('study_locus_ids')\n",
        "    )\n",
        "    # Joining with i:\n",
        "    .join(\n",
        "        (\n",
        "            tags\n",
        "            .select(\n",
        "                f.col('variantId').alias('variantIdLeft'), \n",
        "                f.col('idx').alias('idx_i')\n",
        "            )\n",
        "        ), \n",
        "        on='idx_i', how='outer'\n",
        "    )\n",
        "    # Joining with i:\n",
        "    .join(\n",
        "        (\n",
        "            tags\n",
        "            .select(\n",
        "                'chromosome', \n",
        "                f.col('variantId').alias('variantIdRight'), \n",
        "                f.col('idx').alias('idx_j')\n",
        "            )\n",
        "        ), \n",
        "        on='idx_j', how='outer'\n",
        "    )\n",
        "    .select(\n",
        "        'variantIdLeft',\n",
        "        'variantIdRight',\n",
        "        'study_locus_ids',\n",
        "        'r'\n",
        "    )\n",
        "    .distinct()\n",
        "    .write.mode('overwrite').parquet(f'gs://ot-team/dsuveges/ld_matrix-{study_locus_id}')\n",
        ")"
      ]
    },
    {
      "cell_type": "code",
      "execution_count": 164,
      "id": "3cb94848",
      "metadata": {
        "ExecuteTime": {
          "end_time": "2023-10-27T11:28:28.344710Z",
          "start_time": "2023-10-27T11:28:27.670811Z"
        }
      },
      "outputs": [
        {
          "name": "stdout",
          "output_type": "stream",
          "text": [
            "-RECORD 0---------------------------------------------------\n",
            " studyId        | FINNGEN_R9_C3_BASAL_CELL_CARCINOMA_EXALLC \n",
            " variantIdLead  | 15_27983407_C_T                           \n",
            " studyLocusId   | -8027743839728879857                      \n",
            " variantId      | 15_27733459_AGCCAAACTGGCTCATGGCC_A        \n",
            " pValueMantissa | 1.937                                     \n",
            " pValueExponent | -2                                        \n",
            " beta           | 0.0267247                                 \n",
            " standardError  | 0.011429                                  \n",
            "only showing top 1 row\n",
            "\n"
          ]
        },
        {
          "data": {
            "text/plain": [
              "837"
            ]
          },
          "execution_count": 164,
          "metadata": {},
          "output_type": "execute_result"
        }
      ],
      "source": [
        "study_locus_id = -8027743839728879857\n",
        "\n",
        "# Get data:\n",
        "ld_matrix = session.spark.read.parquet(f'gs://ot-team/dsuveges/ld_matrix-{study_locus_id}')\n",
        "\n",
        "# Select one study locus:\n",
        "selected_locus = (\n",
        "    dl_df\n",
        "    .filter(f.col('studyLocusId') == study_locus_id)\n",
        "    .select(\n",
        "        '*',\n",
        "        f.explode_outer('locus').alias('exploded_locus')\n",
        "    )\n",
        "    .select(\n",
        "        'studyId',\n",
        "        f.col('variantId').alias('variantIdLead'),\n",
        "        f.col('studyLocusId'),\n",
        "        *[f'exploded_locus.{col}' for col in ['variantId', 'pValueMantissa', 'pValueExponent', 'beta', 'standardError']]\n",
        "    )\n",
        "    .persist()\n",
        ")\n",
        "\n",
        "selected_locus.show(1, False, True)\n",
        "selected_locus.count()"
      ]
    },
    {
      "cell_type": "code",
      "execution_count": 189,
      "id": "0e571433",
      "metadata": {
        "ExecuteTime": {
          "end_time": "2023-10-27T13:49:41.356331Z",
          "start_time": "2023-10-27T13:49:40.463119Z"
        }
      },
      "outputs": [
        {
          "name": "stdout",
          "output_type": "stream",
          "text": [
            "+--------------------+--------------------+---------------+---------------+---------------+-------------------+-------------------+----------+------------------+--------------------+\n",
            "|             studyId|        studyLocusId|  variantIdLead|  variantIdLeft| variantIdRight|pValueMantissaRight|pValueExponentRight| betaRight|standardErrorRight|                   r|\n",
            "+--------------------+--------------------+---------------+---------------+---------------+-------------------+-------------------+----------+------------------+--------------------+\n",
            "|FINNGEN_R9_C3_BAS...|-8027743839728879857|15_27983407_C_T|15_27792793_C_T|15_27772290_T_C|              9.979|                 -6| 0.0730063|         0.0165261|  0.3188276023578284|\n",
            "|FINNGEN_R9_C3_BAS...|-8027743839728879857|15_27983407_C_T|15_27950388_C_T|15_27778556_C_T|              1.142|                 -2|  0.119731|         0.0473309| -0.1845689041174883|\n",
            "|FINNGEN_R9_C3_BAS...|-8027743839728879857|15_27983407_C_T|15_28104601_A_T|15_27809200_G_A|              1.397|                 -2|-0.0286999|         0.0116763| 0.01919714154020592|\n",
            "|FINNGEN_R9_C3_BAS...|-8027743839728879857|15_27983407_C_T|15_27970325_G_A|15_27809200_G_A|              1.397|                 -2|-0.0286999|         0.0116763|-0.12413267238343029|\n",
            "|FINNGEN_R9_C3_BAS...|-8027743839728879857|15_27983407_C_T|15_27899878_T_C|15_27851307_A_G|              5.606|                 -4|-0.0424098|         0.0122927|-0.45516734696600447|\n",
            "|FINNGEN_R9_C3_BAS...|-8027743839728879857|15_27983407_C_T|15_27914364_C_T|15_27851307_A_G|              5.606|                 -4|-0.0424098|         0.0122927| -0.4029686644067302|\n",
            "|FINNGEN_R9_C3_BAS...|-8027743839728879857|15_27983407_C_T|15_27828335_G_A|15_27858692_G_A|              3.599|                 -4| 0.0427448|         0.0119804| 0.09141477739652863|\n",
            "|FINNGEN_R9_C3_BAS...|-8027743839728879857|15_27983407_C_T|15_27845815_A_G|15_27858692_G_A|              3.599|                 -4| 0.0427448|         0.0119804|  0.7803430284267874|\n",
            "|FINNGEN_R9_C3_BAS...|-8027743839728879857|15_27983407_C_T|15_27820229_G_A|15_27858692_G_A|              3.599|                 -4| 0.0427448|         0.0119804|-0.08881336794530735|\n",
            "|FINNGEN_R9_C3_BAS...|-8027743839728879857|15_27983407_C_T|15_27825631_G_C|15_27915426_C_A|              1.001|                 -6| 0.0654293|         0.0133765| 0.13879209804155437|\n",
            "|FINNGEN_R9_C3_BAS...|-8027743839728879857|15_27983407_C_T|15_28211160_A_T|15_27915426_C_A|              1.001|                 -6| 0.0654293|         0.0133765| 0.05996001018362227|\n",
            "|FINNGEN_R9_C3_BAS...|-8027743839728879857|15_27983407_C_T|15_28019021_G_T|15_27915426_C_A|              1.001|                 -6| 0.0654293|         0.0133765| 0.03843623265438152|\n",
            "|FINNGEN_R9_C3_BAS...|-8027743839728879857|15_27983407_C_T|15_28081390_A_T|15_27938863_T_A|              2.109|                 -3|  0.157002|         0.0510665|-0.04189151880774...|\n",
            "|FINNGEN_R9_C3_BAS...|-8027743839728879857|15_27983407_C_T|15_27907664_A_T|15_27938914_G_T|              2.725|                 -2| 0.0355862|         0.0161172|-0.16859090364294946|\n",
            "|FINNGEN_R9_C3_BAS...|-8027743839728879857|15_27983407_C_T|15_27819940_C_T|15_27938914_G_T|              2.725|                 -2| 0.0355862|         0.0161172| 0.11697321459267764|\n",
            "|FINNGEN_R9_C3_BAS...|-8027743839728879857|15_27983407_C_T|15_27853556_T_G|15_27938914_G_T|              2.725|                 -2| 0.0355862|         0.0161172| -0.1404576556679461|\n",
            "|FINNGEN_R9_C3_BAS...|-8027743839728879857|15_27983407_C_T|15_28052911_T_C|15_27951206_G_A|              1.437|                 -2| 0.0695541|         0.0284131| 0.04461220378655805|\n",
            "|FINNGEN_R9_C3_BAS...|-8027743839728879857|15_27983407_C_T|15_27790520_G_A|15_27951206_G_A|              1.437|                 -2| 0.0695541|         0.0284131| 0.04420892575950266|\n",
            "|FINNGEN_R9_C3_BAS...|-8027743839728879857|15_27983407_C_T|15_27879868_C_A|15_27989264_G_T|              2.454|                -17|  0.147291|         0.0173896|  0.2404542405419156|\n",
            "|FINNGEN_R9_C3_BAS...|-8027743839728879857|15_27983407_C_T|15_27822551_G_A|15_27989264_G_T|              2.454|                -17|  0.147291|         0.0173896|-0.04613729472121665|\n",
            "+--------------------+--------------------+---------------+---------------+---------------+-------------------+-------------------+----------+------------------+--------------------+\n",
            "only showing top 20 rows\n",
            "\n",
            "385641\n",
            "621.0\n"
          ]
        },
        {
          "data": {
            "text/plain": [
              "621"
            ]
          },
          "execution_count": 189,
          "metadata": {},
          "output_type": "execute_result"
        }
      ],
      "source": [
        "# Filtering matrix:\n",
        "processed_matrix = (\n",
        "    ld_matrix\n",
        "    .join(\n",
        "        selected_locus.select(f.col('variantId').alias('variantIdLeft')),\n",
        "        on='variantIdLeft', how='inner'\n",
        "    )\n",
        "    .join(\n",
        "        selected_locus.withColumnRenamed('variantId', 'variantIdRight'), \n",
        "        on='variantIdRight', how='inner'\n",
        "    )\n",
        "    .select(\n",
        "        'studyId',\n",
        "        'studyLocusId',\n",
        "        'variantIdLead',\n",
        "        'variantIdLeft',\n",
        "        'variantIdRight',\n",
        "        f.col('pValueMantissa').alias('pValueMantissaRight'),\n",
        "        f.col('pValueExponent').alias('pValueExponentRight'),\n",
        "        f.col('beta').alias('betaRight'),\n",
        "        f.col('standardError').alias('standardErrorRight'),\n",
        "        'r'\n",
        "    )\n",
        "    .persist()\n",
        ")\n",
        "\n",
        "processed_matrix.show()\n",
        "print(processed_matrix.count())\n",
        "print(sqrt(processed_matrix.count()))\n",
        "processed_matrix.select('variantIdRight').distinct().count()"
      ]
    },
    {
      "cell_type": "code",
      "execution_count": 167,
      "id": "381f093b",
      "metadata": {
        "ExecuteTime": {
          "end_time": "2023-10-27T11:29:01.779404Z",
          "start_time": "2023-10-27T11:28:57.285168Z"
        }
      },
      "outputs": [
        {
          "name": "stderr",
          "output_type": "stream",
          "text": [
            "                                                                                \r"
          ]
        },
        {
          "data": {
            "text/plain": [
              "array([[1.        , 0.88019644, 0.28333008, 0.25666969, 0.26345801],\n",
              "       [0.88019644, 1.        , 0.26027515, 0.24115952, 0.2442993 ],\n",
              "       [0.28333008, 0.26027515, 1.        , 0.85898573, 0.89168227],\n",
              "       [0.25666969, 0.24115952, 0.85898573, 1.        , 0.96268566],\n",
              "       [0.26345801, 0.2442993 , 0.89168227, 0.96268566, 1.        ]])"
            ]
          },
          "execution_count": 167,
          "metadata": {},
          "output_type": "execute_result"
        }
      ],
      "source": [
        "\n",
        "pivoted_matrix = (\n",
        "    processed_matrix\n",
        "    .orderBy(f.col('variantIdLeft'), f.col('variantIdRight'))\n",
        "    .groupBy('variantIdLeft')\n",
        "    .pivot(\"variantIdRight\")\n",
        "    .agg(f.first('r'))\n",
        "    .orderBy('variantIdLeft')\n",
        "    # Convert to numpy array ingested by SuSie:\n",
        "    .toPandas().set_index('variantIdLeft').to_numpy()\n",
        ")\n",
        "\n",
        "pivoted_matrix[0:5, 0:5]"
      ]
    },
    {
      "cell_type": "code",
      "execution_count": 90,
      "id": "444e2ca2",
      "metadata": {
        "ExecuteTime": {
          "end_time": "2023-10-26T08:49:13.002374Z",
          "start_time": "2023-10-26T08:49:12.604741Z"
        }
      },
      "outputs": [
        {
          "data": {
            "text/plain": [
              "array([[ 1.        ,  0.99851182,  0.85089485, ...,  0.04532387,\n",
              "         0.02258468,  0.02476075],\n",
              "       [ 0.99851182,  1.        ,  0.85111292, ...,  0.0465783 ,\n",
              "         0.02253374,  0.02470884],\n",
              "       [ 0.85089485,  0.85111292,  1.        , ...,  0.04748182,\n",
              "         0.01191697,  0.01652519],\n",
              "       ...,\n",
              "       [ 0.04532387,  0.0465783 ,  0.04748182, ...,  1.        ,\n",
              "        -0.05908013, -0.05417476],\n",
              "       [ 0.02258468,  0.02253374,  0.01191697, ..., -0.05908013,\n",
              "         1.        ,  0.96019982],\n",
              "       [ 0.02476075,  0.02470884,  0.01652519, ..., -0.05417476,\n",
              "         0.96019982,  1.        ]])"
            ]
          },
          "execution_count": 90,
          "metadata": {},
          "output_type": "execute_result"
        }
      ],
      "source": [
        "pivoted_matrix.toPandas().set_index('variantIdLeft').to_numpy()"
      ]
    },
    {
      "cell_type": "code",
      "execution_count": 190,
      "id": "8ed590f1",
      "metadata": {
        "ExecuteTime": {
          "end_time": "2023-10-27T13:50:01.812451Z",
          "start_time": "2023-10-27T13:49:58.985895Z"
        }
      },
      "outputs": [
        {
          "name": "stderr",
          "output_type": "stream",
          "text": [
            "                                                                                \r"
          ]
        }
      ],
      "source": [
        "(\n",
        "    processed_matrix\n",
        "    # Convert to numpy array ingested by SuSie:\n",
        "    .write.mode('overwrite').parquet(f'gs://ot-team/dsuveges/processed-ld-matrix-{study_locus_id}')\n",
        ")"
      ]
    },
    {
      "cell_type": "code",
      "execution_count": 169,
      "id": "5fc2f7ac",
      "metadata": {
        "ExecuteTime": {
          "end_time": "2023-10-27T11:30:11.297300Z",
          "start_time": "2023-10-27T11:30:09.400659Z"
        }
      },
      "outputs": [
        {
          "name": "stderr",
          "output_type": "stream",
          "text": [
            "                                                                                \r"
          ]
        }
      ],
      "source": [
        "# selected_locus.write.mode('overwrite').parquet('gs://ot-team/dsuveges/selected_studyLocus_2224601896262245870')\n",
        "(\n",
        "    processed_matrix\n",
        "    .select(\n",
        "        'studyId',\n",
        "        f.col('variantIdRight').alias('variantId'),\n",
        "        f.col('pValueMantissaRight').alias('pValueMantissa'),\n",
        "        f.col('pValueExponentRight').alias('pValueExponent'),\n",
        "        f.col('betaRight').alias('beta'),\n",
        "        f.col('standardErrorRight').alias('standardError'),\n",
        "    )\n",
        "    .distinct()\n",
        "    .write.mode('overwrite').parquet(f'gs://ot-team/dsuveges/selected_studyLocus_{study_locus_id}')\n",
        ")"
      ]
    },
    {
      "cell_type": "code",
      "execution_count": 187,
      "id": "a4d47348",
      "metadata": {
        "ExecuteTime": {
          "end_time": "2023-10-27T13:33:39.686914Z",
          "start_time": "2023-10-27T13:33:39.682284Z"
        }
      },
      "outputs": [
        {
          "name": "stdout",
          "output_type": "stream",
          "text": [
            "1.00,  0.18,  0.18,  0.97,  0.97,  0.15,  0.18,  0.11,  0.13,  0.12\n",
            "0.18,  1.00,  0.99,  0.15,  0.15,  0.03,  0.03,  0.02,  0.01,  0.02\n",
            "0.18,  0.99,  1.00,  0.15,  0.15,  0.03,  0.03,  0.02,  0.01,  0.02\n",
            "0.97,  0.15,  0.15,  1.00,  1.00,  0.14,  0.17,  0.11,  0.12,  0.12\n",
            "0.97,  0.15,  0.15,  1.00,  1.00,  0.14,  0.17,  0.11,  0.12,  0.12\n",
            "0.15,  0.03,  0.03,  0.14,  0.14,  1.00,  0.32,  0.45,  0.50,  0.25\n",
            "0.18,  0.03,  0.03,  0.17,  0.17,  0.32,  1.00,  0.29,  0.33,  0.52\n",
            "0.11,  0.02,  0.02,  0.11,  0.11,  0.45,  0.29,  1.00,  0.91,  0.29\n",
            "0.13,  0.01,  0.01,  0.12,  0.12,  0.50,  0.33,  0.91,  1.00,  0.33\n",
            "0.12,  0.02,  0.02,  0.12,  0.12,  0.25,  0.52,  0.29,  0.33,  1.00\n"
          ]
        }
      ],
      "source": [
        "print(\n",
        "    '\\n'.join(\n",
        "        [\n",
        "            ',  '.join([f'{value**2:.2f}' for value in row]) \n",
        "            for row in\n",
        "            (\n",
        "                pivoted_matrix\n",
        "                [[291, 293, 295, 322, 323, 508, 514, 529, 534, 515]]\n",
        "                [:,[291, 293, 295, 322, 323, 508, 514, 529, 534, 515]]\n",
        "            )\n",
        "        ]\n",
        "    )\n",
        ")"
      ]
    },
    {
      "cell_type": "code",
      "execution_count": 188,
      "id": "f3910534",
      "metadata": {
        "ExecuteTime": {
          "end_time": "2023-10-27T13:45:22.792801Z",
          "start_time": "2023-10-27T13:45:22.721043Z"
        }
      },
      "outputs": [
        {
          "name": "stdout",
          "output_type": "stream",
          "text": [
            "+--------------------+--------------------+---------------+---------------+---------------+-------------------+-------------------+----------+------------------+--------------------+\n",
            "|             studyId|        studyLocusId|  variantIdLead|  variantIdLeft| variantIdRight|pValueMantissaRight|pValueExponentRight| betaRight|standardErrorRight|                   r|\n",
            "+--------------------+--------------------+---------------+---------------+---------------+-------------------+-------------------+----------+------------------+--------------------+\n",
            "|FINNGEN_R9_C3_BAS...|-8027743839728879857|15_27983407_C_T|15_27792793_C_T|15_27772290_T_C|              9.979|                 -6| 0.0730063|         0.0165261|  0.3188276023578284|\n",
            "|FINNGEN_R9_C3_BAS...|-8027743839728879857|15_27983407_C_T|15_27950388_C_T|15_27778556_C_T|              1.142|                 -2|  0.119731|         0.0473309| -0.1845689041174883|\n",
            "|FINNGEN_R9_C3_BAS...|-8027743839728879857|15_27983407_C_T|15_28104601_A_T|15_27809200_G_A|              1.397|                 -2|-0.0286999|         0.0116763| 0.01919714154020592|\n",
            "|FINNGEN_R9_C3_BAS...|-8027743839728879857|15_27983407_C_T|15_27970325_G_A|15_27809200_G_A|              1.397|                 -2|-0.0286999|         0.0116763|-0.12413267238343029|\n",
            "|FINNGEN_R9_C3_BAS...|-8027743839728879857|15_27983407_C_T|15_27899878_T_C|15_27851307_A_G|              5.606|                 -4|-0.0424098|         0.0122927|-0.45516734696600447|\n",
            "|FINNGEN_R9_C3_BAS...|-8027743839728879857|15_27983407_C_T|15_27914364_C_T|15_27851307_A_G|              5.606|                 -4|-0.0424098|         0.0122927| -0.4029686644067302|\n",
            "|FINNGEN_R9_C3_BAS...|-8027743839728879857|15_27983407_C_T|15_27828335_G_A|15_27858692_G_A|              3.599|                 -4| 0.0427448|         0.0119804| 0.09141477739652863|\n",
            "|FINNGEN_R9_C3_BAS...|-8027743839728879857|15_27983407_C_T|15_27845815_A_G|15_27858692_G_A|              3.599|                 -4| 0.0427448|         0.0119804|  0.7803430284267874|\n",
            "|FINNGEN_R9_C3_BAS...|-8027743839728879857|15_27983407_C_T|15_27820229_G_A|15_27858692_G_A|              3.599|                 -4| 0.0427448|         0.0119804|-0.08881336794530735|\n",
            "|FINNGEN_R9_C3_BAS...|-8027743839728879857|15_27983407_C_T|15_27825631_G_C|15_27915426_C_A|              1.001|                 -6| 0.0654293|         0.0133765| 0.13879209804155437|\n",
            "|FINNGEN_R9_C3_BAS...|-8027743839728879857|15_27983407_C_T|15_28211160_A_T|15_27915426_C_A|              1.001|                 -6| 0.0654293|         0.0133765| 0.05996001018362227|\n",
            "|FINNGEN_R9_C3_BAS...|-8027743839728879857|15_27983407_C_T|15_28019021_G_T|15_27915426_C_A|              1.001|                 -6| 0.0654293|         0.0133765| 0.03843623265438152|\n",
            "|FINNGEN_R9_C3_BAS...|-8027743839728879857|15_27983407_C_T|15_28081390_A_T|15_27938863_T_A|              2.109|                 -3|  0.157002|         0.0510665|-0.04189151880774...|\n",
            "|FINNGEN_R9_C3_BAS...|-8027743839728879857|15_27983407_C_T|15_27907664_A_T|15_27938914_G_T|              2.725|                 -2| 0.0355862|         0.0161172|-0.16859090364294946|\n",
            "|FINNGEN_R9_C3_BAS...|-8027743839728879857|15_27983407_C_T|15_27819940_C_T|15_27938914_G_T|              2.725|                 -2| 0.0355862|         0.0161172| 0.11697321459267764|\n",
            "|FINNGEN_R9_C3_BAS...|-8027743839728879857|15_27983407_C_T|15_27853556_T_G|15_27938914_G_T|              2.725|                 -2| 0.0355862|         0.0161172| -0.1404576556679461|\n",
            "|FINNGEN_R9_C3_BAS...|-8027743839728879857|15_27983407_C_T|15_28052911_T_C|15_27951206_G_A|              1.437|                 -2| 0.0695541|         0.0284131| 0.04461220378655805|\n",
            "|FINNGEN_R9_C3_BAS...|-8027743839728879857|15_27983407_C_T|15_27790520_G_A|15_27951206_G_A|              1.437|                 -2| 0.0695541|         0.0284131| 0.04420892575950266|\n",
            "|FINNGEN_R9_C3_BAS...|-8027743839728879857|15_27983407_C_T|15_27879868_C_A|15_27989264_G_T|              2.454|                -17|  0.147291|         0.0173896|  0.2404542405419156|\n",
            "|FINNGEN_R9_C3_BAS...|-8027743839728879857|15_27983407_C_T|15_27822551_G_A|15_27989264_G_T|              2.454|                -17|  0.147291|         0.0173896|-0.04613729472121665|\n",
            "+--------------------+--------------------+---------------+---------------+---------------+-------------------+-------------------+----------+------------------+--------------------+\n",
            "only showing top 20 rows\n",
            "\n"
          ]
        }
      ],
      "source": [
        "processed_matrix.show()"
      ]
    }
  ],
  "metadata": {
    "_draft": {
      "nbviewer_url": "https://gist.github.com/DSuveges/df6768b7d5637842e009aa945f3ea062"
    },
    "gist": {
      "data": {
        "description": "Issue-3131-Productionizing_LD_matrix.ipynb",
        "public": false
      },
      "id": "df6768b7d5637842e009aa945f3ea062"
    },
    "kernelspec": {
      "display_name": "Python 3",
      "language": "python",
      "name": "python3"
    },
    "language_info": {
      "codemirror_mode": {
        "name": "ipython",
        "version": 3
      },
      "file_extension": ".py",
      "mimetype": "text/x-python",
      "name": "python",
      "nbconvert_exporter": "python",
      "pygments_lexer": "ipython3",
      "version": "3.10.8"
    }
  },
  "nbformat": 4,
  "nbformat_minor": 5
}
